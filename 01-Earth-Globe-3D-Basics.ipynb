{
 "cells": [
  {
   "cell_type": "markdown",
   "metadata": {},
   "source": [
    "# Loading a 3D Earth Model\n",
    "\n",
    "Using **accessvis** (a library for plotting earth systems data in 3D) and **lavavu** a python 3D graphics library (via interface to OpenGL) and video renderer (via interface to FFMpeg / libavcodec)"
   ]
  },
  {
   "cell_type": "code",
   "execution_count": null,
   "metadata": {},
   "outputs": [],
   "source": [
    "import sys\n",
    "import accessvis\n",
    "import lavavu\n",
    "import numpy as np\n",
    "import math\n",
    "import os"
   ]
  },
  {
   "cell_type": "markdown",
   "metadata": {},
   "source": [
    "## Select our model resolution\n",
    "\n",
    "This widget gives a quick way of choosing the level of detail to load, lower detail is faster and uses less memory but doesn't look as good, higher levels will be so slow to render that it will be difficult to interact with the model, best left for final renders.\n",
    "\n",
    "The default parameter sets the initial choice [1-4]"
   ]
  },
  {
   "cell_type": "code",
   "execution_count": null,
   "metadata": {},
   "outputs": [],
   "source": [
    "accessvis.resolution_selection(default=1)"
   ]
  },
  {
   "cell_type": "markdown",
   "metadata": {},
   "source": [
    "## Create a simple earth relief plot\n",
    "\n",
    "- Disabling lighting for now so we can enable it later\n",
    "- Using relief textures, less detail and less realistic than satellite data but also less distraction from data plotted\n",
    "- Setting a white background\n",
    "- 20 times vertical exaggeration of topography"
   ]
  },
  {
   "cell_type": "code",
   "execution_count": null,
   "metadata": {},
   "outputs": [],
   "source": [
    "lv = accessvis.plot_earth(lighting=False, texture='relief', background=\"white\", vertical_exaggeration=20)"
   ]
  },
  {
   "cell_type": "markdown",
   "metadata": {},
   "source": [
    "### display\n",
    "Outputs an image inline in the notebook, pass desired pixel resolution (width,height)"
   ]
  },
  {
   "cell_type": "code",
   "execution_count": null,
   "metadata": {},
   "outputs": [],
   "source": [
    "lv.display((400,400))"
   ]
  },
  {
   "cell_type": "markdown",
   "metadata": {},
   "source": [
    "## Basic camera functions\n",
    "\n",
    "There is a very simple camera controlled by translation and rotation of the model\n",
    "\n",
    "render() renders a frame without outputting anything to the notebook, useful for creating animations or just applying any changes\n",
    "To get the current frame in the notebook, use display() as above, to save an image to disk, use image()"
   ]
  },
  {
   "cell_type": "code",
   "execution_count": null,
   "metadata": {},
   "outputs": [],
   "source": [
    "#Set zoom by translating z axis\n",
    "lv.translation(0.0, 0.0, -17)\n",
    "\n",
    "#Rotate to Australia, -125° around y axis\n",
    "lv.rotation(0.0, -125.0, 0.0)\n",
    "\n",
    "lv.display((400,400))"
   ]
  },
  {
   "cell_type": "markdown",
   "metadata": {},
   "source": [
    "## Image output\n",
    "\n",
    "- render() renders a frame without outputting anything to the notebook, useful for creating animations or just applying any changes\n",
    "- display() as mentioned above, gets the current frame in the notebook\n",
    "- image() saves an image to disk at desired resolution"
   ]
  },
  {
   "cell_type": "code",
   "execution_count": null,
   "metadata": {},
   "outputs": [],
   "source": [
    "lv.image(\"earth.jpg\", (100,100))"
   ]
  },
  {
   "cell_type": "code",
   "execution_count": null,
   "metadata": {},
   "outputs": [],
   "source": [
    "from IPython.display import Image\n",
    "Image(filename='earth.jpg') "
   ]
  },
  {
   "cell_type": "markdown",
   "metadata": {},
   "source": [
    "## Change some lighting and display properties\n",
    "\n",
    "The default light follows the camera so any movement of the model will move the light so it is always shining from the camera view direction\n",
    "This can be changed to a fixed light.\n",
    "\n",
    "The lighting properties can be set to change the type of lighting effect:\n",
    "diffuse: directional diffuse light, brightens the area where the light is hitting the scene but softly without highlights, makes model appear more 3d\n",
    "- ambient: background light level, increasing this brightens the whole scene but makes it appear more flat as it is not directional\n",
    "- specular: shows a bright highlight where the light hits the scene, increasing will make the model surface stand out more and appear shinier\n",
    "- shininess: level of shininess of the surface for specular lighting above, reduce this for a less focused, larger specular highlight, increase for a smaller and more intense shininess effect\n",
    "- light: colour of the light R,G,B in range [0,1]"
   ]
  },
  {
   "cell_type": "code",
   "execution_count": null,
   "metadata": {},
   "outputs": [],
   "source": [
    "lv.set_properties(diffuse=0.8, ambient=0.1, specular=0.35, shininess=0.03, light=[1,1,0.98])\n",
    "lv.display((400,400))"
   ]
  },
  {
   "cell_type": "markdown",
   "metadata": {},
   "source": [
    "## Quick adjustment of output image visual properties\n",
    "\n",
    "There is a shortcut function to set the brightness, contrast and saturation values in the range [0,1] where the default/normal settings are 0.5\n",
    "- brightness : make the scene lighter (-> 1) or darker (-> 0)\n",
    "- contrast : increase or reduce the difference between bright and dark areas\n",
    "- saturation : increase or reduce the colour saturation from greyscale (0) to maximum saturation (1)"
   ]
  },
  {
   "cell_type": "code",
   "execution_count": null,
   "metadata": {},
   "outputs": [],
   "source": [
    "#Increase the colour saturation a bit\n",
    "lv.brightness_contrast_saturation(0.5, 0.5, 0.65)"
   ]
  },
  {
   "cell_type": "code",
   "execution_count": null,
   "metadata": {},
   "outputs": [],
   "source": [
    "lv.display((400,400))"
   ]
  },
  {
   "cell_type": "code",
   "execution_count": null,
   "metadata": {},
   "outputs": [],
   "source": [
    "#Change ocean colour, enable waves"
   ]
  },
  {
   "cell_type": "code",
   "execution_count": null,
   "metadata": {},
   "outputs": [],
   "source": [
    "accessvis.update_earth_values(lv, ocean=[0.0, 0.2, 0.4, 1.0], waves=True)"
   ]
  },
  {
   "cell_type": "code",
   "execution_count": null,
   "metadata": {},
   "outputs": [],
   "source": [
    "lv.display((400,400))"
   ]
  },
  {
   "cell_type": "markdown",
   "metadata": {},
   "source": [
    "## More camera functions\n",
    "\n",
    "- reset() - restores default view, no rotation, auto calculated zoom\n",
    "- camera() - output / save / restore camera position"
   ]
  },
  {
   "cell_type": "code",
   "execution_count": null,
   "metadata": {},
   "outputs": [],
   "source": [
    "lv.reset() #Zero the view"
   ]
  },
  {
   "cell_type": "code",
   "execution_count": null,
   "metadata": {},
   "outputs": [],
   "source": [
    "cam = lv.camera() #Get current view"
   ]
  },
  {
   "cell_type": "code",
   "execution_count": null,
   "metadata": {},
   "outputs": [],
   "source": [
    "#Set saved viewpoint from rotation and translation\n",
    "lv.translation(0.441, -1.034, -10.877)\n",
    "lv.rotation(-134.765, -33.427, 157.365)"
   ]
  },
  {
   "cell_type": "code",
   "execution_count": null,
   "metadata": {},
   "outputs": [],
   "source": [
    "lv.display((800,600))"
   ]
  },
  {
   "cell_type": "code",
   "execution_count": null,
   "metadata": {},
   "outputs": [],
   "source": [
    "#Set from saved cam object\n",
    "lv.camera(cam)"
   ]
  },
  {
   "cell_type": "code",
   "execution_count": null,
   "metadata": {},
   "outputs": [],
   "source": [
    "lv.display((800,600))"
   ]
  },
  {
   "cell_type": "markdown",
   "metadata": {},
   "source": [
    "## Interactive viewer\n",
    "\n",
    "- interactive() - opens a window on the local machine where code is being run\n",
    "- window() - opens a view in the notebook"
   ]
  },
  {
   "cell_type": "code",
   "execution_count": null,
   "metadata": {},
   "outputs": [],
   "source": [
    "#Opens on the server where Jupyter is running...\n",
    "#lv.interactive()"
   ]
  },
  {
   "cell_type": "code",
   "execution_count": null,
   "metadata": {},
   "outputs": [],
   "source": [
    "#This opens a view window inside the notebook\n",
    "lv.window(resolution=(800,600))"
   ]
  },
  {
   "cell_type": "code",
   "execution_count": null,
   "metadata": {},
   "outputs": [],
   "source": [
    "# Add some controls\n",
    "lv.control.Range('brightness')\n",
    "lv.control.Range('contrast')\n",
    "lv.control.Range('saturation')\n",
    "lv.control.Range(command='background', range=(0,1), step=0.1, value=1)\n",
    "lv.control.show()"
   ]
  },
  {
   "cell_type": "markdown",
   "metadata": {},
   "source": [
    "## Simple Video output\n",
    "\n",
    "TODO: document args to lv.video here etc"
   ]
  },
  {
   "cell_type": "code",
   "execution_count": null,
   "metadata": {},
   "outputs": [],
   "source": [
    "from tqdm.notebook import tqdm\n",
    "\n",
    "#Reset view\n",
    "lv.reset()\n",
    "lv.translation(0, 0, -17.5)\n",
    "lv.rotation(0.0, -125.0, 0.0) #Rotate to Australia\n",
    "\n",
    "frames = 90\n",
    "with lv.video(filename='earth_rotating.mp4', quality=3, resolution=(1024,1024), width=512, height=512, params=\"autoplay\") as v:    \n",
    "    for d in tqdm(range(0,frames,1), desc='', miniters=1):\n",
    "        lv.rotate('y', 1)\n",
    "        lv.render()\n",
    "\n",
    "    #Final frames - necessary or video playback is cut short\n",
    "    for i in range(40):\n",
    "        lv.render()"
   ]
  },
  {
   "cell_type": "code",
   "execution_count": null,
   "metadata": {},
   "outputs": [],
   "source": []
  }
 ],
 "metadata": {
  "kernelspec": {
   "display_name": "Python 3 (ipykernel)",
   "language": "python",
   "name": "python3"
  },
  "language_info": {
   "codemirror_mode": {
    "name": "ipython",
    "version": 3
   },
   "file_extension": ".py",
   "mimetype": "text/x-python",
   "name": "python",
   "nbconvert_exporter": "python",
   "pygments_lexer": "ipython3",
   "version": "3.12.3"
  }
 },
 "nbformat": 4,
 "nbformat_minor": 4
}

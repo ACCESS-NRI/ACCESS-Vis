{
 "cells": [
  {
   "cell_type": "markdown",
   "metadata": {},
   "source": [
    "# Plotting image data on a 3D Earth Model"
   ]
  },
  {
   "cell_type": "code",
   "execution_count": null,
   "metadata": {},
   "outputs": [],
   "source": [
    "import sys\n",
    "import accessvis\n",
    "import lavavu\n",
    "import numpy as np\n",
    "import math\n",
    "import os\n",
    "import matplotlib.pyplot as plt\n",
    "import matplotlib.image as mpimg\n",
    "from PIL import Image\n",
    "import xarray as xr"
   ]
  },
  {
   "cell_type": "markdown",
   "metadata": {},
   "source": [
    "## Select our model resolution\n",
    "\n",
    "This widget gives a quick way of choosing the level of detail to load, lower detail is faster and uses less memory but doesn't look as good, higher levels will be so slow to render that it will be difficult to interact with the model, best left for final renders.\n",
    "\n",
    "The default parameter sets the initial choice [1-4]"
   ]
  },
  {
   "cell_type": "code",
   "execution_count": null,
   "metadata": {},
   "outputs": [],
   "source": [
    "accessvis.resolution_selection(default=1)"
   ]
  },
  {
   "cell_type": "markdown",
   "metadata": {},
   "source": [
    "## Create a simple earth relief plot\n",
    "\n",
    "- See previous tutorial for details"
   ]
  },
  {
   "cell_type": "code",
   "execution_count": null,
   "metadata": {},
   "outputs": [],
   "source": [
    "lv = accessvis.plot_earth(texture='bluemarble', background=\"white\", vertical_exaggeration=20)\n",
    "\n",
    "#Zoom out\n",
    "lv.translation(0.0, 0.0, -17)\n",
    "lv.rotation(0.0, -125.0, 0.0) #Rotate to Australia"
   ]
  },
  {
   "cell_type": "code",
   "execution_count": null,
   "metadata": {},
   "outputs": [],
   "source": [
    "#Update lighting\n",
    "#lv.set_properties(diffuse=0.8, ambient=0.1, specular=0.35, shininess=0.03, light=[1,1,0.98])"
   ]
  },
  {
   "cell_type": "code",
   "execution_count": null,
   "metadata": {},
   "outputs": [],
   "source": [
    "#Increase the colour saturation a bit\n",
    "#lv.brightness_contrast_saturation(0.5, 0.5, 0.65)"
   ]
  },
  {
   "cell_type": "code",
   "execution_count": null,
   "metadata": {},
   "outputs": [],
   "source": [
    "lv.display((400,400))"
   ]
  },
  {
   "cell_type": "markdown",
   "metadata": {},
   "source": [
    "## Plot image data\n",
    "Worldview snapshots https://wvs.earthdata.nasa.gov/"
   ]
  },
  {
   "cell_type": "code",
   "execution_count": null,
   "metadata": {},
   "outputs": [],
   "source": [
    "import time\n",
    "baseurl = 'https://wvs.earthdata.nasa.gov/api/v1/snapshot?'\n",
    "params = {'REQUEST': 'GetSnapshot',\n",
    "          'LAYERS': 'VIIRS_NOAA20_CorrectedReflectance_TrueColor',\n",
    "          'CRS': 'EPSG:4326',\n",
    "          'TIME': '2024-09-25',\n",
    "          'WRAP': 'DAY',\n",
    "          'BBOX': '-90,-180,90,180',\n",
    "          'FORMAT': 'image/jpeg',\n",
    "          'WIDTH': 8192,\n",
    "          'HEIGHT': 4096,\n",
    "          'AUTOSCALE': 'TRUE',\n",
    "          'ts': int(time.time()*1000)\n",
    "         }\n",
    "plist = [f\"{p}={params[p]}\" for p in params]\n",
    "url = baseurl + '&'.join(plist)\n",
    "url\n",
    "\n",
    "fn = 'worldview_earth_snapshot.jpg'"
   ]
  },
  {
   "cell_type": "code",
   "execution_count": null,
   "metadata": {},
   "outputs": [],
   "source": [
    "if not os.path.exists(fn):\n",
    "    accessvis.download(url, filename=fn)"
   ]
  },
  {
   "cell_type": "code",
   "execution_count": null,
   "metadata": {},
   "outputs": [],
   "source": [
    "#Rotate the texture 180 degrees and set alpha channel in nodata regions\n",
    "img = Image.open(fn)\n",
    "arr = np.array(img)\n",
    "arr = np.roll(arr, arr.shape[1] // 2, axis=1)\n",
    "plt.imshow(arr)"
   ]
  },
  {
   "cell_type": "code",
   "execution_count": null,
   "metadata": {},
   "outputs": [],
   "source": [
    "#Use approximate luminance for opacity (so darker = transparent)\n",
    "#This will reduce the data to mostly clouds and ice areas to overlay over our existing texture\n",
    "alpha = (0.33*arr[:,:,0] + 0.5*arr[:,:,1] + 0.16*arr[:,:,2]).astype(np.uint8)"
   ]
  },
  {
   "cell_type": "code",
   "execution_count": null,
   "metadata": {},
   "outputs": [],
   "source": [
    "alpha.shape"
   ]
  },
  {
   "cell_type": "code",
   "execution_count": null,
   "metadata": {},
   "outputs": [],
   "source": [
    "arr.shape"
   ]
  },
  {
   "cell_type": "code",
   "execution_count": null,
   "metadata": {},
   "outputs": [],
   "source": [
    "arr2 = np.dstack((arr, alpha))\n",
    "plt.imshow(arr2)"
   ]
  },
  {
   "cell_type": "markdown",
   "metadata": {},
   "source": [
    "# Add image data\n"
   ]
  },
  {
   "cell_type": "code",
   "execution_count": null,
   "metadata": {},
   "outputs": [],
   "source": [
    "accessvis.update_earth_values(lv, dataMode=0, data=arr2)"
   ]
  },
  {
   "cell_type": "code",
   "execution_count": null,
   "metadata": {},
   "outputs": [],
   "source": []
  },
  {
   "cell_type": "code",
   "execution_count": null,
   "metadata": {},
   "outputs": [],
   "source": [
    "lv.reset()"
   ]
  },
  {
   "cell_type": "code",
   "execution_count": null,
   "metadata": {},
   "outputs": [],
   "source": [
    "lv.display((400,400))"
   ]
  },
  {
   "cell_type": "code",
   "execution_count": null,
   "metadata": {},
   "outputs": [],
   "source": []
  },
  {
   "cell_type": "code",
   "execution_count": null,
   "metadata": {},
   "outputs": [],
   "source": [
    "lv.window((600,600))"
   ]
  },
  {
   "cell_type": "code",
   "execution_count": null,
   "metadata": {},
   "outputs": [],
   "source": []
  }
 ],
 "metadata": {
  "kernelspec": {
   "display_name": "Python 3 (ipykernel)",
   "language": "python",
   "name": "python3"
  },
  "language_info": {
   "codemirror_mode": {
    "name": "ipython",
    "version": 3
   },
   "file_extension": ".py",
   "mimetype": "text/x-python",
   "name": "python",
   "nbconvert_exporter": "python",
   "pygments_lexer": "ipython3",
   "version": "3.12.3"
  }
 },
 "nbformat": 4,
 "nbformat_minor": 4
}

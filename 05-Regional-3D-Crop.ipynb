{
 "cells": [
  {
   "cell_type": "markdown",
   "id": "1777bb0d-8075-4d41-953f-c5f8c4d12301",
   "metadata": {},
   "source": [
    "# Regional 3D plot\n",
    "\n",
    "Load a regional crop of the earth topography, texture and plot some temperature data\n"
   ]
  },
  {
   "cell_type": "code",
   "execution_count": null,
   "id": "ee74887d-ca76-4d51-809f-6d1f179cd7e3",
   "metadata": {},
   "outputs": [],
   "source": [
    "import numpy as np\n",
    "import xarray as xr\n",
    "import matplotlib.pyplot as plt\n",
    "import lavavu\n",
    "import os\n",
    "import accessvis"
   ]
  },
  {
   "cell_type": "markdown",
   "id": "ae1baf63-5748-4ac2-9b75-b6f792e22bea",
   "metadata": {},
   "source": [
    "## Load some temperature data"
   ]
  },
  {
   "cell_type": "code",
   "execution_count": null,
   "id": "42364afd-885a-4b31-8f62-11a32f86f9f9",
   "metadata": {},
   "outputs": [],
   "source": [
    "#https://thredds.nci.org.au/thredds/catalog/fs38/publications/CMIP6/CMIP/CSIRO-ARCCSS/ACCESS-CM2/historical/r10i1p1f1/day/hfls/gn/latest/catalog.html?dataset=fs38/CMIP/CSIRO-ARCCSS/ACCESS-CM2/historical/r10i1p1f1/day/hfls/gn/latest/\n",
    "thredds_server = \"https://thredds.nci.org.au/thredds/dodsC/fs38/publications/\"\n",
    "dl_server = \"https://thredds.nci.org.au/thredds/fileServer/fs38/publications/\"\n",
    "\n",
    "#Surface temperature\n",
    "ver = \"CMIP6/CMIP/CSIRO-ARCCSS/ACCESS-CM2/1pctCO2\"  #historical/\"\n",
    "fpath = \"/r1i1p1f1/Amon/tas/gn/latest/tas_Amon_ACCESS-CM2_1pctCO2_r1i1p1f1_gn_095001-109912.nc\"\n",
    "var = 'tas'\n",
    "url = f\"{thredds_server}{ver}{fpath}\""
   ]
  },
  {
   "cell_type": "code",
   "execution_count": null,
   "id": "3050d644-d38e-492a-a411-8461a0fb31e7",
   "metadata": {},
   "outputs": [],
   "source": [
    "print(f'{url}.html')"
   ]
  },
  {
   "cell_type": "code",
   "execution_count": null,
   "id": "a31b3e6c-0ab4-48f1-b70b-fddf9bf4f8e7",
   "metadata": {},
   "outputs": [],
   "source": [
    "ds = xr.open_dataset(url)"
   ]
  },
  {
   "cell_type": "code",
   "execution_count": null,
   "id": "4e520bad-7db4-4b8c-832c-f15866125cb4",
   "metadata": {},
   "outputs": [],
   "source": [
    "ds"
   ]
  },
  {
   "cell_type": "code",
   "execution_count": null,
   "id": "b5e2ce6f-4ad5-4e36-890c-e119fd494f16",
   "metadata": {},
   "outputs": [],
   "source": [
    "times = ds['time']\n",
    "data = ds[var]"
   ]
  },
  {
   "cell_type": "code",
   "execution_count": null,
   "id": "6eeb6c9b-bd5a-4ed6-915d-4b169c04a09c",
   "metadata": {},
   "outputs": [],
   "source": [
    "data"
   ]
  },
  {
   "cell_type": "code",
   "execution_count": null,
   "id": "664742a2-0c57-41d3-8d50-cf67117d3445",
   "metadata": {},
   "outputs": [],
   "source": [
    "data[0].plot()"
   ]
  },
  {
   "cell_type": "code",
   "execution_count": null,
   "id": "0b1f01d3-2a53-44dd-af81-c3f4a0afa51d",
   "metadata": {},
   "outputs": [],
   "source": []
  },
  {
   "cell_type": "markdown",
   "id": "1785affb-8829-4da9-81ad-8bf6c4df317c",
   "metadata": {},
   "source": [
    "## Select a region to plot"
   ]
  },
  {
   "cell_type": "code",
   "execution_count": null,
   "id": "c97eaad4-8ab0-45f7-a60e-d2b9cbd30de7",
   "metadata": {},
   "outputs": [],
   "source": [
    "#South-eastern Australia (lat,lon) (y,x)\n",
    "TL = (-29, 135)\n",
    "BR = (-45, 160)"
   ]
  },
  {
   "cell_type": "markdown",
   "id": "fdca5792-9731-4087-9f69-25607fa420bb",
   "metadata": {},
   "source": [
    "## Crop the data to selected region"
   ]
  },
  {
   "cell_type": "code",
   "execution_count": null,
   "id": "22edcbeb-8cbb-4003-b730-75aeb3f4c3b1",
   "metadata": {},
   "outputs": [],
   "source": [
    "#Prepare cropped region\n",
    "min_lat = BR[0]\n",
    "max_lat = TL[0]\n",
    "min_lon = TL[1]\n",
    "max_lon = BR[1]\n",
    "\n",
    "cropped_ds = ds.sel(lat=slice(min_lat,max_lat), lon=slice(min_lon,max_lon))"
   ]
  },
  {
   "cell_type": "code",
   "execution_count": null,
   "id": "c1a7f602-feca-431b-ab87-fdc301b44bbf",
   "metadata": {},
   "outputs": [],
   "source": [
    "cropped_ds"
   ]
  },
  {
   "cell_type": "code",
   "execution_count": null,
   "id": "629f3f55-7cea-4864-ad7d-2ab6e79da2ff",
   "metadata": {},
   "outputs": [],
   "source": [
    "cropped_ds['tas'][0].plot()"
   ]
  },
  {
   "cell_type": "code",
   "execution_count": null,
   "id": "fd633d6e-c686-465b-a802-855b36f64aad",
   "metadata": {},
   "outputs": [],
   "source": [
    "cropped_ds.lat"
   ]
  },
  {
   "cell_type": "code",
   "execution_count": null,
   "id": "411a4110-232a-4083-a505-b038c08c57af",
   "metadata": {},
   "outputs": [],
   "source": [
    "cropped_ds.lon"
   ]
  },
  {
   "cell_type": "code",
   "execution_count": null,
   "id": "832d3f9a-73ee-459a-aed0-462cdd32dbf5",
   "metadata": {},
   "outputs": [],
   "source": [
    "latitude = cropped_ds.lat.values\n",
    "longitude = cropped_ds.lon.values"
   ]
  },
  {
   "cell_type": "markdown",
   "id": "4e61fce6-23e0-48c6-8ceb-61ceea5db1c0",
   "metadata": {},
   "source": [
    "## 3D Plot"
   ]
  },
  {
   "cell_type": "code",
   "execution_count": null,
   "id": "456a342e-bf5d-499d-86b6-9596673d4039",
   "metadata": {},
   "outputs": [],
   "source": [
    "#Use higher res topo when cropping to region\n",
    "accessvis.resolution_selection(default=3)"
   ]
  },
  {
   "cell_type": "code",
   "execution_count": null,
   "id": "3ed40d7c-9d38-4f17-8232-7aea430b1c60",
   "metadata": {},
   "outputs": [],
   "source": [
    "#Pass the crop box to plot_region to get regional topography view\n",
    "V_EXAG = 20.0 #Vertical exaggeration\n",
    "cropbox=((latitude[0], longitude[0]), (latitude[-1], longitude[-1]))\n",
    "lv = accessvis.plot_region(cropbox=cropbox, vertical_exaggeration=V_EXAG, bathymetry=False)"
   ]
  },
  {
   "cell_type": "code",
   "execution_count": null,
   "id": "c5a6557e-5819-462a-b85f-b692c0026210",
   "metadata": {},
   "outputs": [],
   "source": [
    "#Setup lighting\n",
    "lv.set_properties(diffuse=0.6, ambient=0.85, specular=0.25, shininess=0.03, light=[1,1,0.98,1], lightpos=[0,0,10000,1])"
   ]
  },
  {
   "cell_type": "code",
   "execution_count": null,
   "id": "a4384e19-6870-403d-9428-f02e7ef1f52d",
   "metadata": {},
   "outputs": [],
   "source": [
    "lv.display((640,480))"
   ]
  },
  {
   "cell_type": "code",
   "execution_count": null,
   "id": "562a7c7e-b0bc-4363-a64d-ba049afbddfe",
   "metadata": {},
   "outputs": [],
   "source": [
    "#Get first timestep temperature, converted to C\n",
    "tas = np.array(cropped_ds[var][0])-273.15"
   ]
  },
  {
   "cell_type": "code",
   "execution_count": null,
   "id": "a3bdfab5-dc15-404e-b983-23512daf227b",
   "metadata": {},
   "outputs": [],
   "source": [
    "plt.imshow(tas)"
   ]
  },
  {
   "cell_type": "code",
   "execution_count": null,
   "id": "66def2ae-50a2-41cc-9706-f98cf9b2278d",
   "metadata": {},
   "outputs": [],
   "source": [
    "#Apply a colourmap\n",
    "rgba = accessvis.array_to_rgba(tas, colourmap='coolwarm')"
   ]
  },
  {
   "cell_type": "code",
   "execution_count": null,
   "id": "8a55bb78-40dd-4b93-a98a-20771b76ebf7",
   "metadata": {},
   "outputs": [],
   "source": [
    "plt.imshow(rgba)"
   ]
  },
  {
   "cell_type": "code",
   "execution_count": null,
   "id": "0cba1fbf-2a4e-48a0-84a2-c00cc71967c1",
   "metadata": {},
   "outputs": [],
   "source": [
    "topo = lv.objects['surface']"
   ]
  },
  {
   "cell_type": "code",
   "execution_count": null,
   "id": "35933e4a-4db2-42ac-b929-38ca2d6fffb2",
   "metadata": {},
   "outputs": [],
   "source": [
    "#Grab the vertices from our existing topo surface\n",
    "#We use vertices_copy() as we want to modify the data for a new surface,\n",
    "#vertices() returns a reference to the actual data and without making a copy\n",
    "#any changes would also modify the topo vertices in-place\n",
    "V = topo.data.vertices_copy[0]"
   ]
  },
  {
   "cell_type": "code",
   "execution_count": null,
   "id": "eae3d280-1756-4f5a-9a41-4ab7743b910d",
   "metadata": {},
   "outputs": [],
   "source": [
    "#Add a 5 metre offset for the overlay surface\n",
    "offset = 5 * accessvis.MtoLL * V_EXAG\n",
    "V[::,::,2] = V[::,::,2] + offset"
   ]
  },
  {
   "cell_type": "code",
   "execution_count": null,
   "id": "59f271e7-963f-4525-a197-098e14ca1426",
   "metadata": {},
   "outputs": [],
   "source": [
    "#Create a new surface to plot temperature on\n",
    "tsurf = lv.triangles('temperature', vertices=V, cullface=True, texture=\"blank.png\", lit=False, alpha=0.6)"
   ]
  },
  {
   "cell_type": "code",
   "execution_count": null,
   "id": "093e7fc8-e321-4311-a642-07f006922d37",
   "metadata": {},
   "outputs": [],
   "source": [
    "lv.reload()"
   ]
  },
  {
   "cell_type": "code",
   "execution_count": null,
   "id": "7389a0a0-7647-4d21-b0bb-fd7f75ac023b",
   "metadata": {},
   "outputs": [],
   "source": []
  },
  {
   "cell_type": "code",
   "execution_count": null,
   "id": "5f0f4bdb-0124-49c0-bfb0-5d702d1aea25",
   "metadata": {},
   "outputs": [],
   "source": [
    "#Load the colourmapped data\n",
    "tsurf.texture(rgba)"
   ]
  },
  {
   "cell_type": "code",
   "execution_count": null,
   "id": "ae6cdcfd-e0d8-41bd-a3e6-78b8d5a12e24",
   "metadata": {},
   "outputs": [],
   "source": [
    "cmap = lv.colourmap('coolwarm', range=(0,50))\n",
    "cb = lv.colourbar()\n",
    "#cb['range'] = (0,50)"
   ]
  },
  {
   "cell_type": "code",
   "execution_count": null,
   "id": "ed66cd5d-1bb3-4df0-8697-b4835c8de6ad",
   "metadata": {},
   "outputs": [],
   "source": [
    "lv.reset()\n",
    "lv.translation(0.0, 0.0, -11)\n",
    "lv.display((800,600))"
   ]
  },
  {
   "cell_type": "code",
   "execution_count": null,
   "id": "3b8dd98b-22c1-4c08-ba09-4d58d1f57a2d",
   "metadata": {},
   "outputs": [],
   "source": [
    "# Set a different camera view"
   ]
  },
  {
   "cell_type": "code",
   "execution_count": null,
   "id": "8f0e41f3-7ded-46d2-b3e0-95dfac967d12",
   "metadata": {},
   "outputs": [],
   "source": [
    "lv.translation(0, 1.5, -11.5)\n",
    "lv.rotation(-37, 0, 0)"
   ]
  },
  {
   "cell_type": "code",
   "execution_count": null,
   "id": "f1a77e86-4fb9-4d9a-ac97-b428d8dee8c9",
   "metadata": {},
   "outputs": [],
   "source": [
    "lv.display((1920//2,1080//2))"
   ]
  },
  {
   "cell_type": "markdown",
   "id": "07c6fc70-9a2a-408c-ab41-f9e94c773387",
   "metadata": {},
   "source": [
    "## Animation\n",
    "\n",
    "Plot temperature data for January over full dataset"
   ]
  },
  {
   "cell_type": "code",
   "execution_count": null,
   "id": "dff83177-314b-4231-951c-d88b6d093678",
   "metadata": {},
   "outputs": [],
   "source": [
    "from tqdm.notebook import tqdm\n",
    "step = 12\n",
    "fn = 'regional_temp_jan.mp4'\n",
    "with lv.video(filename=fn, fps=60, quality=3, resolution=(1920//2,1080//2), params=\"autoplay\"):    \n",
    "    for ts in tqdm(range(0,len(times),step)):\n",
    "        lv[\"title\"] = f\"+y{ts//12+1} m{ts%12+1}\"\n",
    "        tas = np.array(cropped_ds[var][ts])-273.15\n",
    "        rgba = accessvis.array_to_rgba(tas, colourmap='coolwarm')\n",
    "        tsurf.texture(rgba)\n",
    "        lv.render()\n",
    "    #Final frames\n",
    "    for i in range(40):\n",
    "        lv.render()"
   ]
  }
 ],
 "metadata": {
  "kernelspec": {
   "display_name": "Python 3 (ipykernel)",
   "language": "python",
   "name": "python3"
  },
  "language_info": {
   "codemirror_mode": {
    "name": "ipython",
    "version": 3
   },
   "file_extension": ".py",
   "mimetype": "text/x-python",
   "name": "python",
   "nbconvert_exporter": "python",
   "pygments_lexer": "ipython3",
   "version": "3.12.3"
  }
 },
 "nbformat": 4,
 "nbformat_minor": 5
}

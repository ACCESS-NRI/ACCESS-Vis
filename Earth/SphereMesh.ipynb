{
 "cells": [
  {
   "cell_type": "markdown",
   "id": "b959fb73-7ccf-4fa0-a5b7-d23b26a3e634",
   "metadata": {},
   "source": [
    "# Sphere Mesh\n",
    "\n",
    "Generate a spherical mesh for use in plotting 3D globe data\n",
    "\n",
    "Uses specified radius, add an offset to plot data just about topography etc"
   ]
  },
  {
   "cell_type": "code",
   "execution_count": null,
   "id": "c086c0ed-e736-4fb5-917f-312507f6ef60",
   "metadata": {},
   "outputs": [],
   "source": [
    "#Earth's radius ~6371km - we'll use 1000's of km units (Mm)\n",
    "radius = 6371 * 1e-3 #Radius in Mm\n",
    "\n",
    "#Radius + small offset for stratosphere\n",
    "s_radius = radius * 1.016\n",
    "\n",
    "#Sphere mesh quality (higher = more triangles)\n",
    "QUALITY=256"
   ]
  },
  {
   "cell_type": "code",
   "execution_count": null,
   "id": "e63255a8-e12b-4316-b18d-85bdf46940b3",
   "metadata": {},
   "outputs": [],
   "source": [
    "import lavavu\n",
    "lv = lavavu.Viewer(border=False, axis=False, resolution=[1280,720], background='black')"
   ]
  },
  {
   "cell_type": "code",
   "execution_count": null,
   "id": "e695a61a-4197-4abd-bd91-f78e7d281559",
   "metadata": {},
   "outputs": [],
   "source": [
    "tris0 = lv.spheres(\"sphere\", scaling=s_radius, segments=QUALITY, colour=\"grey\", vertices=[0,0,0], fliptexture=False)\n",
    "tris0['rotate'] = [0,-90,0] #This rotates the sphere coords to align with [0,360] longitude texture\n",
    "tris0['texture'] = 'blank.png' #Need an initial texture or texcoords will not be generated\n",
    "tris0['renderer'] = 'sortedtriangles'\n",
    "lv.render()\n",
    "\n",
    "#Generate and extract sphere vertices, texcoords etc\n",
    "lv.bake(7)\n",
    "#lv['cullface'] = False #Must disable this for the ozone plot\n",
    "#tris0[\"rotate\"] = [0,0,0]\n",
    "#tris0[\"alpha\"] = 0.6\n",
    "lv.display((400,400))"
   ]
  },
  {
   "cell_type": "code",
   "execution_count": null,
   "id": "f39d7030-cc23-4783-8e9b-47cc5a77c794",
   "metadata": {},
   "outputs": [],
   "source": [
    "tris0.data[0]\n",
    "#DrawData(\"triangles\") ==> {'vertices': (65792, 3), 'normals': (65792, 3), 'indices': (196608,), 'texcoords': (65792, 2)}"
   ]
  },
  {
   "cell_type": "code",
   "execution_count": null,
   "id": "e52c2419-e3e6-4349-be13-0f84cba06339",
   "metadata": {},
   "outputs": [],
   "source": [
    "sdata = {}\n",
    "element = tris0.data[0]\n",
    "keys = element.available.keys()\n",
    "for k in keys:\n",
    "    print(k)\n",
    "    sdata[k] = tris0.data[k][0]\n",
    "print(sdata)"
   ]
  },
  {
   "cell_type": "code",
   "execution_count": null,
   "id": "85d8ff63-7e99-4dad-947c-cad318efa25f",
   "metadata": {},
   "outputs": [],
   "source": [
    "#Save compressed vertex data\n",
    "import numpy as np\n",
    "np.savez_compressed(f'Sphere_{s_radius:.4f}', **sdata)"
   ]
  },
  {
   "cell_type": "code",
   "execution_count": null,
   "id": "718b2386-1daf-4865-bde9-1b57fa25570e",
   "metadata": {},
   "outputs": [],
   "source": [
    "!ls -ltrh *.npz"
   ]
  },
  {
   "cell_type": "code",
   "execution_count": null,
   "id": "64718aa0-da17-424f-b579-a98d1588d378",
   "metadata": {},
   "outputs": [],
   "source": []
  }
 ],
 "metadata": {
  "kernelspec": {
   "display_name": "Python 3 (ipykernel)",
   "language": "python",
   "name": "python3"
  },
  "language_info": {
   "codemirror_mode": {
    "name": "ipython",
    "version": 3
   },
   "file_extension": ".py",
   "mimetype": "text/x-python",
   "name": "python",
   "nbconvert_exporter": "python",
   "pygments_lexer": "ipython3",
   "version": "3.10.12"
  }
 },
 "nbformat": 4,
 "nbformat_minor": 5
}
